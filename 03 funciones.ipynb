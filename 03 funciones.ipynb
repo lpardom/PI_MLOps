{
 "cells": [
  {
   "cell_type": "markdown",
   "metadata": {},
   "source": [
    "funcion 01"
   ]
  },
  {
   "cell_type": "code",
   "execution_count": 1,
   "metadata": {},
   "outputs": [],
   "source": [
    "import pandas as pd"
   ]
  },
  {
   "cell_type": "code",
   "execution_count": 4,
   "metadata": {},
   "outputs": [],
   "source": [
    "df_ep01 = pd.read_csv('endpoint01.csv')"
   ]
  },
  {
   "cell_type": "code",
   "execution_count": 5,
   "metadata": {},
   "outputs": [
    {
     "data": {
      "text/html": [
       "<div>\n",
       "<style scoped>\n",
       "    .dataframe tbody tr th:only-of-type {\n",
       "        vertical-align: middle;\n",
       "    }\n",
       "\n",
       "    .dataframe tbody tr th {\n",
       "        vertical-align: top;\n",
       "    }\n",
       "\n",
       "    .dataframe thead th {\n",
       "        text-align: right;\n",
       "    }\n",
       "</style>\n",
       "<table border=\"1\" class=\"dataframe\">\n",
       "  <thead>\n",
       "    <tr style=\"text-align: right;\">\n",
       "      <th></th>\n",
       "      <th>genero</th>\n",
       "      <th>release_year</th>\n",
       "    </tr>\n",
       "  </thead>\n",
       "  <tbody>\n",
       "    <tr>\n",
       "      <th>0</th>\n",
       "      <td>Action</td>\n",
       "      <td>2012</td>\n",
       "    </tr>\n",
       "    <tr>\n",
       "      <th>1</th>\n",
       "      <td>Adventure</td>\n",
       "      <td>2011</td>\n",
       "    </tr>\n",
       "    <tr>\n",
       "      <th>2</th>\n",
       "      <td>Animation and Modeling</td>\n",
       "      <td>2015</td>\n",
       "    </tr>\n",
       "    <tr>\n",
       "      <th>3</th>\n",
       "      <td>Audio Production</td>\n",
       "      <td>2014</td>\n",
       "    </tr>\n",
       "    <tr>\n",
       "      <th>4</th>\n",
       "      <td>Casual</td>\n",
       "      <td>2015</td>\n",
       "    </tr>\n",
       "    <tr>\n",
       "      <th>5</th>\n",
       "      <td>Design and Illustration</td>\n",
       "      <td>2012</td>\n",
       "    </tr>\n",
       "    <tr>\n",
       "      <th>6</th>\n",
       "      <td>Early Access</td>\n",
       "      <td>2013</td>\n",
       "    </tr>\n",
       "    <tr>\n",
       "      <th>7</th>\n",
       "      <td>Education</td>\n",
       "      <td>2013</td>\n",
       "    </tr>\n",
       "    <tr>\n",
       "      <th>8</th>\n",
       "      <td>Free to Play</td>\n",
       "      <td>2013</td>\n",
       "    </tr>\n",
       "    <tr>\n",
       "      <th>9</th>\n",
       "      <td>Indie</td>\n",
       "      <td>2006</td>\n",
       "    </tr>\n",
       "    <tr>\n",
       "      <th>10</th>\n",
       "      <td>Massively Multiplayer</td>\n",
       "      <td>2013</td>\n",
       "    </tr>\n",
       "    <tr>\n",
       "      <th>11</th>\n",
       "      <td>Photo Editing</td>\n",
       "      <td>2014</td>\n",
       "    </tr>\n",
       "    <tr>\n",
       "      <th>12</th>\n",
       "      <td>RPG</td>\n",
       "      <td>2011</td>\n",
       "    </tr>\n",
       "    <tr>\n",
       "      <th>13</th>\n",
       "      <td>Racing</td>\n",
       "      <td>2015</td>\n",
       "    </tr>\n",
       "    <tr>\n",
       "      <th>14</th>\n",
       "      <td>Simulation</td>\n",
       "      <td>2006</td>\n",
       "    </tr>\n",
       "    <tr>\n",
       "      <th>15</th>\n",
       "      <td>Software Training</td>\n",
       "      <td>2014</td>\n",
       "    </tr>\n",
       "    <tr>\n",
       "      <th>16</th>\n",
       "      <td>Sports</td>\n",
       "      <td>2015</td>\n",
       "    </tr>\n",
       "    <tr>\n",
       "      <th>17</th>\n",
       "      <td>Strategy</td>\n",
       "      <td>2013</td>\n",
       "    </tr>\n",
       "    <tr>\n",
       "      <th>18</th>\n",
       "      <td>Utilities</td>\n",
       "      <td>2014</td>\n",
       "    </tr>\n",
       "    <tr>\n",
       "      <th>19</th>\n",
       "      <td>Video Production</td>\n",
       "      <td>2015</td>\n",
       "    </tr>\n",
       "    <tr>\n",
       "      <th>20</th>\n",
       "      <td>Web Publishing</td>\n",
       "      <td>2012</td>\n",
       "    </tr>\n",
       "  </tbody>\n",
       "</table>\n",
       "</div>"
      ],
      "text/plain": [
       "                     genero  release_year\n",
       "0                    Action          2012\n",
       "1                 Adventure          2011\n",
       "2    Animation and Modeling          2015\n",
       "3          Audio Production          2014\n",
       "4                    Casual          2015\n",
       "5   Design and Illustration          2012\n",
       "6              Early Access          2013\n",
       "7                 Education          2013\n",
       "8              Free to Play          2013\n",
       "9                     Indie          2006\n",
       "10    Massively Multiplayer          2013\n",
       "11            Photo Editing          2014\n",
       "12                      RPG          2011\n",
       "13                   Racing          2015\n",
       "14               Simulation          2006\n",
       "15        Software Training          2014\n",
       "16                   Sports          2015\n",
       "17                 Strategy          2013\n",
       "18                Utilities          2014\n",
       "19         Video Production          2015\n",
       "20           Web Publishing          2012"
      ]
     },
     "execution_count": 5,
     "metadata": {},
     "output_type": "execute_result"
    }
   ],
   "source": [
    "df_ep01"
   ]
  },
  {
   "cell_type": "code",
   "execution_count": 6,
   "metadata": {},
   "outputs": [],
   "source": [
    "filtered_df = df_ep01[df_ep01['genero'] == 'Action']"
   ]
  },
  {
   "cell_type": "code",
   "execution_count": 7,
   "metadata": {},
   "outputs": [
    {
     "data": {
      "text/html": [
       "<div>\n",
       "<style scoped>\n",
       "    .dataframe tbody tr th:only-of-type {\n",
       "        vertical-align: middle;\n",
       "    }\n",
       "\n",
       "    .dataframe tbody tr th {\n",
       "        vertical-align: top;\n",
       "    }\n",
       "\n",
       "    .dataframe thead th {\n",
       "        text-align: right;\n",
       "    }\n",
       "</style>\n",
       "<table border=\"1\" class=\"dataframe\">\n",
       "  <thead>\n",
       "    <tr style=\"text-align: right;\">\n",
       "      <th></th>\n",
       "      <th>genero</th>\n",
       "      <th>release_year</th>\n",
       "    </tr>\n",
       "  </thead>\n",
       "  <tbody>\n",
       "    <tr>\n",
       "      <th>0</th>\n",
       "      <td>Action</td>\n",
       "      <td>2012</td>\n",
       "    </tr>\n",
       "  </tbody>\n",
       "</table>\n",
       "</div>"
      ],
      "text/plain": [
       "   genero  release_year\n",
       "0  Action          2012"
      ]
     },
     "execution_count": 7,
     "metadata": {},
     "output_type": "execute_result"
    }
   ],
   "source": [
    "filtered_df"
   ]
  },
  {
   "cell_type": "code",
   "execution_count": 9,
   "metadata": {},
   "outputs": [],
   "source": [
    "response = {\"Año de lanzamiento con más horas jugadas para {}: {}\".format(filtered_df.iloc[0]['genero'],filtered_df.iloc[0]['release_year'])}"
   ]
  },
  {
   "cell_type": "code",
   "execution_count": 10,
   "metadata": {},
   "outputs": [
    {
     "data": {
      "text/plain": [
       "{'Año de lanzamiento con más horas jugadas para Action: 0    2012\\nName: release_year, dtype: int64'}"
      ]
     },
     "execution_count": 10,
     "metadata": {},
     "output_type": "execute_result"
    }
   ],
   "source": [
    "response"
   ]
  },
  {
   "cell_type": "markdown",
   "metadata": {},
   "source": [
    "funcion 02"
   ]
  },
  {
   "cell_type": "code",
   "execution_count": 4,
   "metadata": {},
   "outputs": [],
   "source": [
    "df_ep02 = pd.read_csv('endpoint02.csv')"
   ]
  },
  {
   "cell_type": "code",
   "execution_count": 5,
   "metadata": {},
   "outputs": [
    {
     "data": {
      "text/html": [
       "<div>\n",
       "<style scoped>\n",
       "    .dataframe tbody tr th:only-of-type {\n",
       "        vertical-align: middle;\n",
       "    }\n",
       "\n",
       "    .dataframe tbody tr th {\n",
       "        vertical-align: top;\n",
       "    }\n",
       "\n",
       "    .dataframe thead th {\n",
       "        text-align: right;\n",
       "    }\n",
       "</style>\n",
       "<table border=\"1\" class=\"dataframe\">\n",
       "  <thead>\n",
       "    <tr style=\"text-align: right;\">\n",
       "      <th></th>\n",
       "      <th>genero</th>\n",
       "      <th>usuario</th>\n",
       "      <th>anios_Horas</th>\n",
       "    </tr>\n",
       "  </thead>\n",
       "  <tbody>\n",
       "    <tr>\n",
       "      <th>0</th>\n",
       "      <td>Action</td>\n",
       "      <td>DeEggMeister</td>\n",
       "      <td>[{'Año': 1994.0, 'Horas': 20.0}, {'Año': 1995....</td>\n",
       "    </tr>\n",
       "    <tr>\n",
       "      <th>1</th>\n",
       "      <td>Adventure</td>\n",
       "      <td>thugnificent</td>\n",
       "      <td>[{'Año': 1988.0, 'Horas': 231.0}, {'Año': 1993...</td>\n",
       "    </tr>\n",
       "    <tr>\n",
       "      <th>2</th>\n",
       "      <td>Animation and Modeling</td>\n",
       "      <td>ehekatI</td>\n",
       "      <td>[{'Año': 2013.0, 'Horas': 16.0}, {'Año': 2015....</td>\n",
       "    </tr>\n",
       "    <tr>\n",
       "      <th>3</th>\n",
       "      <td>Audio Production</td>\n",
       "      <td>everybodylovesrayman</td>\n",
       "      <td>[{'Año': 2014.0, 'Horas': 109916.0}]</td>\n",
       "    </tr>\n",
       "    <tr>\n",
       "      <th>4</th>\n",
       "      <td>Casual</td>\n",
       "      <td>thugnificent</td>\n",
       "      <td>[{'Año': 1993.0, 'Horas': 8822.0}, {'Año': 199...</td>\n",
       "    </tr>\n",
       "    <tr>\n",
       "      <th>5</th>\n",
       "      <td>Design and Illustration</td>\n",
       "      <td>ehekatI</td>\n",
       "      <td>[{'Año': 2013.0, 'Horas': 16.0}, {'Año': 2015....</td>\n",
       "    </tr>\n",
       "    <tr>\n",
       "      <th>6</th>\n",
       "      <td>Early Access</td>\n",
       "      <td>Outbackalien</td>\n",
       "      <td>[{'Año': 2012.0, 'Horas': 114.0}, {'Año': 2013...</td>\n",
       "    </tr>\n",
       "    <tr>\n",
       "      <th>7</th>\n",
       "      <td>Education</td>\n",
       "      <td>76561198058784699</td>\n",
       "      <td>[{'Año': 2013.0, 'Horas': 65427.0}]</td>\n",
       "    </tr>\n",
       "    <tr>\n",
       "      <th>8</th>\n",
       "      <td>Free to Play</td>\n",
       "      <td>thugnificent</td>\n",
       "      <td>[{'Año': 2003.0, 'Horas': 530882.0}, {'Año': 2...</td>\n",
       "    </tr>\n",
       "    <tr>\n",
       "      <th>9</th>\n",
       "      <td>Indie</td>\n",
       "      <td>thugnificent</td>\n",
       "      <td>[{'Año': 1997.0, 'Horas': 99.0}, {'Año': 1998....</td>\n",
       "    </tr>\n",
       "    <tr>\n",
       "      <th>10</th>\n",
       "      <td>Massively Multiplayer</td>\n",
       "      <td>EucHellscythe</td>\n",
       "      <td>[{'Año': 2009.0, 'Horas': 39.0}, {'Año': 2010....</td>\n",
       "    </tr>\n",
       "    <tr>\n",
       "      <th>11</th>\n",
       "      <td>Photo Editing</td>\n",
       "      <td>SkittleRage</td>\n",
       "      <td>[{'Año': 2014.0, 'Horas': 21885.0}]</td>\n",
       "    </tr>\n",
       "    <tr>\n",
       "      <th>12</th>\n",
       "      <td>RPG</td>\n",
       "      <td>thugnificent</td>\n",
       "      <td>[{'Año': 1996.0, 'Horas': 76.0}, {'Año': 1999....</td>\n",
       "    </tr>\n",
       "    <tr>\n",
       "      <th>13</th>\n",
       "      <td>Racing</td>\n",
       "      <td>Turn_on_a_Dime</td>\n",
       "      <td>[{'Año': 2006.0, 'Horas': 73946.0}, {'Año': 20...</td>\n",
       "    </tr>\n",
       "    <tr>\n",
       "      <th>14</th>\n",
       "      <td>Simulation</td>\n",
       "      <td>EucHellscythe</td>\n",
       "      <td>[{'Año': 2001.0, 'Horas': 25.0}, {'Año': 2003....</td>\n",
       "    </tr>\n",
       "    <tr>\n",
       "      <th>15</th>\n",
       "      <td>Software Training</td>\n",
       "      <td>everybodylovesrayman</td>\n",
       "      <td>[{'Año': 2014.0, 'Horas': 109916.0}]</td>\n",
       "    </tr>\n",
       "    <tr>\n",
       "      <th>16</th>\n",
       "      <td>Sports</td>\n",
       "      <td>cyberhorse</td>\n",
       "      <td>[{'Año': 2010.0, 'Horas': 71.0}, {'Año': 2012....</td>\n",
       "    </tr>\n",
       "    <tr>\n",
       "      <th>17</th>\n",
       "      <td>Strategy</td>\n",
       "      <td>thugnificent</td>\n",
       "      <td>[{'Año': 1993.0, 'Horas': 22001.0}, {'Año': 19...</td>\n",
       "    </tr>\n",
       "    <tr>\n",
       "      <th>18</th>\n",
       "      <td>Utilities</td>\n",
       "      <td>76561198062403736</td>\n",
       "      <td>[{'Año': 2014.0, 'Horas': 207651.0}]</td>\n",
       "    </tr>\n",
       "    <tr>\n",
       "      <th>19</th>\n",
       "      <td>Video Production</td>\n",
       "      <td>ehekatI</td>\n",
       "      <td>[{'Año': 2015.0, 'Horas': 168321.0}]</td>\n",
       "    </tr>\n",
       "    <tr>\n",
       "      <th>20</th>\n",
       "      <td>Web Publishing</td>\n",
       "      <td>76561198027367190</td>\n",
       "      <td>[{'Año': 2005.0, 'Horas': 7296.0}, {'Año': 201...</td>\n",
       "    </tr>\n",
       "  </tbody>\n",
       "</table>\n",
       "</div>"
      ],
      "text/plain": [
       "                     genero               usuario   \n",
       "0                    Action          DeEggMeister  \\\n",
       "1                 Adventure          thugnificent   \n",
       "2    Animation and Modeling               ehekatI   \n",
       "3          Audio Production  everybodylovesrayman   \n",
       "4                    Casual          thugnificent   \n",
       "5   Design and Illustration               ehekatI   \n",
       "6              Early Access          Outbackalien   \n",
       "7                 Education     76561198058784699   \n",
       "8              Free to Play          thugnificent   \n",
       "9                     Indie          thugnificent   \n",
       "10    Massively Multiplayer         EucHellscythe   \n",
       "11            Photo Editing           SkittleRage   \n",
       "12                      RPG          thugnificent   \n",
       "13                   Racing        Turn_on_a_Dime   \n",
       "14               Simulation         EucHellscythe   \n",
       "15        Software Training  everybodylovesrayman   \n",
       "16                   Sports            cyberhorse   \n",
       "17                 Strategy          thugnificent   \n",
       "18                Utilities     76561198062403736   \n",
       "19         Video Production               ehekatI   \n",
       "20           Web Publishing     76561198027367190   \n",
       "\n",
       "                                          anios_Horas  \n",
       "0   [{'Año': 1994.0, 'Horas': 20.0}, {'Año': 1995....  \n",
       "1   [{'Año': 1988.0, 'Horas': 231.0}, {'Año': 1993...  \n",
       "2   [{'Año': 2013.0, 'Horas': 16.0}, {'Año': 2015....  \n",
       "3                [{'Año': 2014.0, 'Horas': 109916.0}]  \n",
       "4   [{'Año': 1993.0, 'Horas': 8822.0}, {'Año': 199...  \n",
       "5   [{'Año': 2013.0, 'Horas': 16.0}, {'Año': 2015....  \n",
       "6   [{'Año': 2012.0, 'Horas': 114.0}, {'Año': 2013...  \n",
       "7                 [{'Año': 2013.0, 'Horas': 65427.0}]  \n",
       "8   [{'Año': 2003.0, 'Horas': 530882.0}, {'Año': 2...  \n",
       "9   [{'Año': 1997.0, 'Horas': 99.0}, {'Año': 1998....  \n",
       "10  [{'Año': 2009.0, 'Horas': 39.0}, {'Año': 2010....  \n",
       "11                [{'Año': 2014.0, 'Horas': 21885.0}]  \n",
       "12  [{'Año': 1996.0, 'Horas': 76.0}, {'Año': 1999....  \n",
       "13  [{'Año': 2006.0, 'Horas': 73946.0}, {'Año': 20...  \n",
       "14  [{'Año': 2001.0, 'Horas': 25.0}, {'Año': 2003....  \n",
       "15               [{'Año': 2014.0, 'Horas': 109916.0}]  \n",
       "16  [{'Año': 2010.0, 'Horas': 71.0}, {'Año': 2012....  \n",
       "17  [{'Año': 1993.0, 'Horas': 22001.0}, {'Año': 19...  \n",
       "18               [{'Año': 2014.0, 'Horas': 207651.0}]  \n",
       "19               [{'Año': 2015.0, 'Horas': 168321.0}]  \n",
       "20  [{'Año': 2005.0, 'Horas': 7296.0}, {'Año': 201...  "
      ]
     },
     "execution_count": 5,
     "metadata": {},
     "output_type": "execute_result"
    }
   ],
   "source": [
    "df_ep02"
   ]
  },
  {
   "cell_type": "code",
   "execution_count": 9,
   "metadata": {},
   "outputs": [],
   "source": [
    "filtered_df = df_ep02[df_ep02['genero'] == 'Action']"
   ]
  },
  {
   "cell_type": "code",
   "execution_count": 10,
   "metadata": {},
   "outputs": [
    {
     "data": {
      "text/html": [
       "<div>\n",
       "<style scoped>\n",
       "    .dataframe tbody tr th:only-of-type {\n",
       "        vertical-align: middle;\n",
       "    }\n",
       "\n",
       "    .dataframe tbody tr th {\n",
       "        vertical-align: top;\n",
       "    }\n",
       "\n",
       "    .dataframe thead th {\n",
       "        text-align: right;\n",
       "    }\n",
       "</style>\n",
       "<table border=\"1\" class=\"dataframe\">\n",
       "  <thead>\n",
       "    <tr style=\"text-align: right;\">\n",
       "      <th></th>\n",
       "      <th>genero</th>\n",
       "      <th>usuario</th>\n",
       "      <th>anios_Horas</th>\n",
       "    </tr>\n",
       "  </thead>\n",
       "  <tbody>\n",
       "    <tr>\n",
       "      <th>0</th>\n",
       "      <td>Action</td>\n",
       "      <td>DeEggMeister</td>\n",
       "      <td>[{'Año': 1994.0, 'Horas': 20.0}, {'Año': 1995....</td>\n",
       "    </tr>\n",
       "  </tbody>\n",
       "</table>\n",
       "</div>"
      ],
      "text/plain": [
       "   genero       usuario                                        anios_Horas\n",
       "0  Action  DeEggMeister  [{'Año': 1994.0, 'Horas': 20.0}, {'Año': 1995...."
      ]
     },
     "execution_count": 10,
     "metadata": {},
     "output_type": "execute_result"
    }
   ],
   "source": [
    "filtered_df"
   ]
  },
  {
   "cell_type": "code",
   "execution_count": 16,
   "metadata": {},
   "outputs": [],
   "source": [
    "response = {\"Usuario con más horas jugadas para {}: {},'Horas jugadas' {}\".format(filtered_df.iloc[0]['genero'],filtered_df.iloc[0]['usuario'],filtered_df.iloc[0]['anios_Horas'] )}"
   ]
  },
  {
   "cell_type": "code",
   "execution_count": 17,
   "metadata": {},
   "outputs": [
    {
     "data": {
      "text/plain": [
       "{\"Usuario con más horas jugadas para Action: DeEggMeister,'Horas jugadas' [{'Año': 1994.0, 'Horas': 20.0}, {'Año': 1995.0, 'Horas': 80.0}, {'Año': 1998.0, 'Horas': 1504.0}, {'Año': 1999.0, 'Horas': 993.0}, {'Año': 2000.0, 'Horas': 7276.0}, {'Año': 2001.0, 'Horas': 295.0}, {'Año': 2002.0, 'Horas': 1388.0}, {'Año': 2003.0, 'Horas': 4608.0}, {'Año': 2004.0, 'Horas': 64061.0}, {'Año': 2005.0, 'Horas': 8908.0}, {'Año': 2006.0, 'Horas': 16235.0}, {'Año': 2007.0, 'Horas': 22869.0}, {'Año': 2008.0, 'Horas': 99995.0}, {'Año': 2009.0, 'Horas': 207187.0}, {'Año': 2010.0, 'Horas': 139111.0}, {'Año': 2011.0, 'Horas': 337126.0}, {'Año': 2012.0, 'Horas': 1182929.0}, {'Año': 2013.0, 'Horas': 460357.0}, {'Año': 2014.0, 'Horas': 192694.0}, {'Año': 2015.0, 'Horas': 274834.0}, {'Año': 2016.0, 'Horas': 111759.0}, {'Año': 2017.0, 'Horas': 87183.0}]\"}"
      ]
     },
     "execution_count": 17,
     "metadata": {},
     "output_type": "execute_result"
    }
   ],
   "source": [
    "response"
   ]
  }
 ],
 "metadata": {
  "kernelspec": {
   "display_name": "Python 3",
   "language": "python",
   "name": "python3"
  },
  "language_info": {
   "codemirror_mode": {
    "name": "ipython",
    "version": 3
   },
   "file_extension": ".py",
   "mimetype": "text/x-python",
   "name": "python",
   "nbconvert_exporter": "python",
   "pygments_lexer": "ipython3",
   "version": "3.11.9"
  }
 },
 "nbformat": 4,
 "nbformat_minor": 2
}
