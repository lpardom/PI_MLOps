{
 "cells": [
  {
   "cell_type": "code",
   "execution_count": 2,
   "metadata": {},
   "outputs": [],
   "source": [
    "import pandas as pd"
   ]
  },
  {
   "cell_type": "code",
   "execution_count": 2,
   "metadata": {},
   "outputs": [],
   "source": [
    "df_games = pd.read_csv(\"games.csv\")\n",
    "df_reviews = pd.read_csv(\"reviews.csv\")\n",
    "df_items = pd.read_csv(\"items.csv\")"
   ]
  },
  {
   "cell_type": "markdown",
   "metadata": {},
   "source": [
    "Endpoint01"
   ]
  },
  {
   "cell_type": "markdown",
   "metadata": {},
   "source": [
    "- games.genres\n",
    "- games.release_date (solo el año)\n",
    "- games.id\n",
    "- items.item_id\n",
    "- items.playtime_forever"
   ]
  },
  {
   "cell_type": "code",
   "execution_count": 3,
   "metadata": {},
   "outputs": [
    {
     "data": {
      "text/plain": [
       "app_name                     Lost Summoner Kitty\n",
       "id                                      761140.0\n",
       "release_year                              2018.0\n",
       "Accounting                                     0\n",
       "Action                                         1\n",
       "Adventure                                      0\n",
       "Animation &amp; Modeling                       0\n",
       "Audio Production                               0\n",
       "Casual                                         1\n",
       "Design &amp; Illustration                      0\n",
       "Early Access                                   0\n",
       "Education                                      0\n",
       "Free to Play                                   0\n",
       "Indie                                          1\n",
       "Massively Multiplayer                          0\n",
       "Photo Editing                                  0\n",
       "RPG                                            0\n",
       "Racing                                         0\n",
       "Simulation                                     1\n",
       "Software Training                              0\n",
       "Sports                                         0\n",
       "Strategy                                       1\n",
       "Utilities                                      0\n",
       "Video Production                               0\n",
       "Web Publishing                                 0\n",
       "Name: 0, dtype: object"
      ]
     },
     "execution_count": 3,
     "metadata": {},
     "output_type": "execute_result"
    }
   ],
   "source": [
    "df_games.loc[0,:]"
   ]
  },
  {
   "cell_type": "code",
   "execution_count": 4,
   "metadata": {},
   "outputs": [],
   "source": [
    "df_games.rename(columns={'id': 'item_id'}, inplace=True)\n",
    "df_games.rename(columns={'Animation &amp; Modeling': 'Animation and Modeling'}, inplace=True)\n",
    "df_games.rename(columns={'Design &amp; Illustration': 'Design and Illustration'}, inplace=True)\n",
    "df_items[\"playtime_forever\"] = df_items[\"playtime_forever\"].astype(int)"
   ]
  },
  {
   "cell_type": "code",
   "execution_count": 5,
   "metadata": {},
   "outputs": [
    {
     "data": {
      "text/html": [
       "<div>\n",
       "<style scoped>\n",
       "    .dataframe tbody tr th:only-of-type {\n",
       "        vertical-align: middle;\n",
       "    }\n",
       "\n",
       "    .dataframe tbody tr th {\n",
       "        vertical-align: top;\n",
       "    }\n",
       "\n",
       "    .dataframe thead th {\n",
       "        text-align: right;\n",
       "    }\n",
       "</style>\n",
       "<table border=\"1\" class=\"dataframe\">\n",
       "  <thead>\n",
       "    <tr style=\"text-align: right;\">\n",
       "      <th></th>\n",
       "      <th>user_id</th>\n",
       "      <th>item_id</th>\n",
       "      <th>playtime_forever</th>\n",
       "    </tr>\n",
       "  </thead>\n",
       "  <tbody>\n",
       "    <tr>\n",
       "      <th>587715</th>\n",
       "      <td>Cydran</td>\n",
       "      <td>4000</td>\n",
       "      <td>642773</td>\n",
       "    </tr>\n",
       "    <tr>\n",
       "      <th>2499068</th>\n",
       "      <td>EucHellscythe</td>\n",
       "      <td>212200</td>\n",
       "      <td>635295</td>\n",
       "    </tr>\n",
       "    <tr>\n",
       "      <th>4075729</th>\n",
       "      <td>76561198018891278</td>\n",
       "      <td>42710</td>\n",
       "      <td>632452</td>\n",
       "    </tr>\n",
       "    <tr>\n",
       "      <th>1495340</th>\n",
       "      <td>poopinya</td>\n",
       "      <td>4000</td>\n",
       "      <td>613411</td>\n",
       "    </tr>\n",
       "    <tr>\n",
       "      <th>1836985</th>\n",
       "      <td>76561198048365774</td>\n",
       "      <td>72200</td>\n",
       "      <td>600068</td>\n",
       "    </tr>\n",
       "    <tr>\n",
       "      <th>...</th>\n",
       "      <td>...</td>\n",
       "      <td>...</td>\n",
       "      <td>...</td>\n",
       "    </tr>\n",
       "    <tr>\n",
       "      <th>1912425</th>\n",
       "      <td>astrasimon</td>\n",
       "      <td>315430</td>\n",
       "      <td>0</td>\n",
       "    </tr>\n",
       "    <tr>\n",
       "      <th>1912431</th>\n",
       "      <td>astrasimon</td>\n",
       "      <td>273350</td>\n",
       "      <td>0</td>\n",
       "    </tr>\n",
       "    <tr>\n",
       "      <th>3841051</th>\n",
       "      <td>cannedbees</td>\n",
       "      <td>232210</td>\n",
       "      <td>0</td>\n",
       "    </tr>\n",
       "    <tr>\n",
       "      <th>1912432</th>\n",
       "      <td>astrasimon</td>\n",
       "      <td>319630</td>\n",
       "      <td>0</td>\n",
       "    </tr>\n",
       "    <tr>\n",
       "      <th>4098182</th>\n",
       "      <td>Dragim</td>\n",
       "      <td>17390</td>\n",
       "      <td>0</td>\n",
       "    </tr>\n",
       "  </tbody>\n",
       "</table>\n",
       "<p>5153209 rows × 3 columns</p>\n",
       "</div>"
      ],
      "text/plain": [
       "                   user_id  item_id  playtime_forever\n",
       "587715              Cydran     4000            642773\n",
       "2499068      EucHellscythe   212200            635295\n",
       "4075729  76561198018891278    42710            632452\n",
       "1495340           poopinya     4000            613411\n",
       "1836985  76561198048365774    72200            600068\n",
       "...                    ...      ...               ...\n",
       "1912425         astrasimon   315430                 0\n",
       "1912431         astrasimon   273350                 0\n",
       "3841051         cannedbees   232210                 0\n",
       "1912432         astrasimon   319630                 0\n",
       "4098182             Dragim    17390                 0\n",
       "\n",
       "[5153209 rows x 3 columns]"
      ]
     },
     "execution_count": 5,
     "metadata": {},
     "output_type": "execute_result"
    }
   ],
   "source": [
    "df_items.sort_values(by='playtime_forever', ascending=False)"
   ]
  },
  {
   "cell_type": "code",
   "execution_count": 6,
   "metadata": {},
   "outputs": [],
   "source": [
    "ep01 = pd.merge(df_games, df_items, on='item_id', how='inner')\n"
   ]
  },
  {
   "cell_type": "code",
   "execution_count": 7,
   "metadata": {},
   "outputs": [
    {
     "data": {
      "text/plain": [
       "Index(['app_name', 'item_id', 'release_year', 'Accounting', 'Action',\n",
       "       'Adventure', 'Animation and Modeling', 'Audio Production', 'Casual',\n",
       "       'Design and Illustration', 'Early Access', 'Education', 'Free to Play',\n",
       "       'Indie', 'Massively Multiplayer', 'Photo Editing', 'RPG', 'Racing',\n",
       "       'Simulation', 'Software Training', 'Sports', 'Strategy', 'Utilities',\n",
       "       'Video Production', 'Web Publishing', 'user_id', 'playtime_forever'],\n",
       "      dtype='object')"
      ]
     },
     "execution_count": 7,
     "metadata": {},
     "output_type": "execute_result"
    }
   ],
   "source": [
    "ep01.columns"
   ]
  },
  {
   "cell_type": "code",
   "execution_count": 8,
   "metadata": {},
   "outputs": [],
   "source": [
    "generos=['Accounting', 'Action', 'Adventure',\n",
    "       'Animation and Modeling', 'Audio Production', 'Casual',\n",
    "       'Design and Illustration', 'Early Access', 'Education', 'Free to Play',\n",
    "       'Indie', 'Massively Multiplayer', 'Photo Editing', 'RPG', 'Racing',\n",
    "       'Simulation', 'Software Training', 'Sports', 'Strategy', 'Utilities',\n",
    "       'Video Production', 'Web Publishing']"
   ]
  },
  {
   "cell_type": "code",
   "execution_count": 9,
   "metadata": {},
   "outputs": [],
   "source": [
    "ep01.drop(columns=[\"app_name\",\"item_id\",\"user_id\"], inplace=True)"
   ]
  },
  {
   "cell_type": "code",
   "execution_count": 10,
   "metadata": {},
   "outputs": [
    {
     "name": "stderr",
     "output_type": "stream",
     "text": [
      "C:\\Users\\LP\\AppData\\Local\\Temp\\ipykernel_13520\\1926346883.py:17: FutureWarning: The behavior of DataFrame concatenation with empty or all-NA entries is deprecated. In a future version, this will no longer exclude empty or all-NA columns when determining the result dtypes. To retain the old behavior, exclude the relevant entries before the concat operation.\n",
      "  resultados = pd.concat([resultados, resumen_genero], ignore_index=True)\n"
     ]
    }
   ],
   "source": [
    "resultados = pd.DataFrame(columns=['genero', 'release_year'])\n",
    "\n",
    "def suma_horas_por_anio(genero):\n",
    "    # Filtrar las filas donde el valor sea igual a 1\n",
    "    filtrado = ep01[ep01[genero] == 1]\n",
    "\n",
    "    # Agrupar por año y sumar las horas jugadas\n",
    "    resumen = filtrado.groupby('release_year')['playtime_forever'].sum().reset_index()\n",
    "    resumen = resumen.sort_values(by='playtime_forever', ascending=False).head(1)\n",
    "\n",
    "    return resumen\n",
    "\n",
    "# Llamar a la función con el nombre de la columna y valor\n",
    "for genero in generos:\n",
    "    resumen_genero = suma_horas_por_anio(genero)\n",
    "    resumen_genero['genero'] = genero\n",
    "    resultados = pd.concat([resultados, resumen_genero], ignore_index=True)\n"
   ]
  },
  {
   "cell_type": "code",
   "execution_count": 11,
   "metadata": {},
   "outputs": [],
   "source": [
    "resultados.drop(columns=[\"playtime_forever\"], inplace=True)"
   ]
  },
  {
   "cell_type": "code",
   "execution_count": 12,
   "metadata": {},
   "outputs": [],
   "source": [
    "resultados[\"release_year\"] = resultados[\"release_year\"].astype(int)\n",
    "resultados[\"release_year\"] = resultados[\"release_year\"].astype(str)"
   ]
  },
  {
   "cell_type": "code",
   "execution_count": 13,
   "metadata": {},
   "outputs": [],
   "source": [
    "resultados.to_csv(\"endpoint01.csv\", index=False)"
   ]
  },
  {
   "cell_type": "markdown",
   "metadata": {},
   "source": [
    "Endpoint 02"
   ]
  },
  {
   "cell_type": "markdown",
   "metadata": {},
   "source": []
  },
  {
   "cell_type": "code",
   "execution_count": null,
   "metadata": {},
   "outputs": [],
   "source": []
  }
 ],
 "metadata": {
  "kernelspec": {
   "display_name": "Python 3",
   "language": "python",
   "name": "python3"
  },
  "language_info": {
   "codemirror_mode": {
    "name": "ipython",
    "version": 3
   },
   "file_extension": ".py",
   "mimetype": "text/x-python",
   "name": "python",
   "nbconvert_exporter": "python",
   "pygments_lexer": "ipython3",
   "version": "3.11.8"
  }
 },
 "nbformat": 4,
 "nbformat_minor": 2
}
